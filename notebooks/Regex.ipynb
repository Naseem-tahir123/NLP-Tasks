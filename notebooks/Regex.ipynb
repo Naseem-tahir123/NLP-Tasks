{
  "nbformat": 4,
  "nbformat_minor": 0,
  "metadata": {
    "colab": {
      "provenance": []
    },
    "kernelspec": {
      "name": "python3",
      "display_name": "Python 3"
    },
    "language_info": {
      "name": "python"
    }
  },
  "cells": [
    {
      "cell_type": "markdown",
      "source": [
        "# **Regular Expressions In Python**\n",
        "\n",
        "Regular Expressions is a powerful tool in python for matching, searching, manipulating strings based on specific patterns.\n",
        "They are part of Python (re) module which provides functionalities to work with regular expressions effectively.\n",
        "\n"
      ],
      "metadata": {
        "id": "V70MiuCWGVjQ"
      }
    },
    {
      "cell_type": "code",
      "execution_count": null,
      "metadata": {
        "id": "QX1vrDeAmOC5"
      },
      "outputs": [],
      "source": [
        "import re"
      ]
    },
    {
      "cell_type": "markdown",
      "source": [
        "# **Phone Number Extraction from text**"
      ],
      "metadata": {
        "id": "9LdrdMzTr71N"
      }
    },
    {
      "cell_type": "code",
      "source": [
        "text = '''  Name: Naseem Tahir\n",
        "  Phone Number: 03407688383\n",
        "Second number:(0340)-6788876\n",
        "  email: mymail@gmail.com\n",
        "  city: Islamabad\n",
        "'''"
      ],
      "metadata": {
        "id": "3vgi7vPlmSZE"
      },
      "execution_count": null,
      "outputs": []
    },
    {
      "cell_type": "code",
      "source": [
        "num_pattern = '\\d{11}|\\(\\d{4}\\)-\\d{7}'\n",
        "compiled_pattern = re.compile(num_pattern)\n",
        "matches = compiled_pattern.findall(text)\n",
        "print (f'My contact Numbers are:')\n",
        "for i in matches:\n",
        "  print(i)"
      ],
      "metadata": {
        "colab": {
          "base_uri": "https://localhost:8080/"
        },
        "id": "-KyFXE7rmxLd",
        "outputId": "63a0bdea-0644-435d-bcfa-b06a99a48548"
      },
      "execution_count": null,
      "outputs": [
        {
          "output_type": "stream",
          "name": "stdout",
          "text": [
            "My contact Numbers are:\n",
            "03407688383\n",
            "(0340)-6788876\n"
          ]
        }
      ]
    },
    {
      "cell_type": "code",
      "source": [
        "def get_phone_numbers(text):\n",
        "  pattern = '\\d{11}|\\(\\d{4}\\)-\\d{7}'\n",
        "  matches = re.findall(pattern,text)\n",
        "  if matches:\n",
        "    return matches[0:]\n",
        "phone_numbers = get_phone_numbers(text)\n",
        "phone_numbers\n"
      ],
      "metadata": {
        "colab": {
          "base_uri": "https://localhost:8080/"
        },
        "id": "TfkONl9Lzist",
        "outputId": "c147a0d4-6264-4ab5-ce87-1ed591737e01"
      },
      "execution_count": null,
      "outputs": [
        {
          "output_type": "execute_result",
          "data": {
            "text/plain": [
              "['03407688383', '(0340)-6788876']"
            ]
          },
          "metadata": {},
          "execution_count": 42
        }
      ]
    },
    {
      "cell_type": "markdown",
      "source": [
        "# **Email Extraction from text**"
      ],
      "metadata": {
        "id": "HXfuTks3sFJi"
      }
    },
    {
      "cell_type": "code",
      "source": [
        "email_text = '''For customer support, you can reach us at support@companydomain.com\n",
        " or helpdesk@servicehub.com. For sales inquiries, email sales@marketplus.com,\n",
        "  info@saleshub.io, or business@ecommerce.net. If you're submitting a resume,\n",
        "   send it to careers@techfirm.co,hr@globaljobs.org, or recruitment@talenthub.biz.'''"
      ],
      "metadata": {
        "id": "GADwc8wcsaF0"
      },
      "execution_count": null,
      "outputs": []
    },
    {
      "cell_type": "code",
      "source": [
        "email_pattern = '[a-z0-9A-Z._]+@[a-zA-Z]+\\.[a-zA-Z]{3}'\n",
        "compiled_pattern = re.compile(email_pattern)\n",
        "matches = compiled_pattern.findall(email_text)\n",
        "matches\n",
        "print (f'Emails are:')\n",
        "for i in matches:\n",
        "  print(i)\n"
      ],
      "metadata": {
        "colab": {
          "base_uri": "https://localhost:8080/"
        },
        "id": "jVJk6ZsiswHq",
        "outputId": "1e0755ca-aaf7-4402-f06c-a7c395bcbe29"
      },
      "execution_count": null,
      "outputs": [
        {
          "output_type": "stream",
          "name": "stdout",
          "text": [
            "Emails are:\n",
            "support@companydomain.com\n",
            "helpdesk@servicehub.com\n",
            "sales@marketplus.com\n",
            "business@ecommerce.net\n",
            "hr@globaljobs.org\n",
            "recruitment@talenthub.biz\n"
          ]
        }
      ]
    },
    {
      "cell_type": "code",
      "source": [
        "def get_emails(text):\n",
        "  pattern = '[a-z0-9A-Z._]+@[a-zA-Z]+\\.[a-zA-Z]{3}'\n",
        "  matches = re.findall(pattern,text)\n",
        "  if matches:\n",
        "    print (f'Emails are:')\n",
        "    return matches[0:]\n",
        "Emails = get_emails(email_text)\n",
        "Emails\n"
      ],
      "metadata": {
        "colab": {
          "base_uri": "https://localhost:8080/"
        },
        "id": "3e9ubrci1FLG",
        "outputId": "c4760c95-35c1-46dc-9a96-2702cdfdf099"
      },
      "execution_count": null,
      "outputs": [
        {
          "output_type": "stream",
          "name": "stdout",
          "text": [
            "Emails are:\n"
          ]
        },
        {
          "output_type": "execute_result",
          "data": {
            "text/plain": [
              "['support@companydomain.com',\n",
              " 'helpdesk@servicehub.com',\n",
              " 'sales@marketplus.com',\n",
              " 'business@ecommerce.net',\n",
              " 'hr@globaljobs.org',\n",
              " 'recruitment@talenthub.biz']"
            ]
          },
          "metadata": {},
          "execution_count": 45
        }
      ]
    },
    {
      "cell_type": "markdown",
      "source": [
        "### **Excercises**\n",
        "##### *Extract all twitter handles from following text. Twitter handle is the text that appears after https://twitter.com/ and is a single word. Also it contains only alpha numeric characters i.e. A-Z a-z , o to 9 and underscore*\n"
      ],
      "metadata": {
        "id": "uFB5_8n9DZ4v"
      }
    },
    {
      "cell_type": "code",
      "source": [
        "text = '''\n",
        "Follow our leader Elon musk on twitter here: https://twitter.com/elonmusk, more information\n",
        "on Tesla's products can be found at https://www.tesla.com/. Also here are leading influencers\n",
        "for tesla related news,\n",
        "https://twitter.com/teslarati\n",
        "https://twitter.com/dummy_tesla\n",
        "https://twitter.com/dummy_2_tesla\n",
        "'''\n",
        "pattern = '[https:]+\\/\\/[twitter.com]+\\/+[a-z0-9A-Z_]*' # todo: type your regex here\n",
        "\n",
        "matches = re.findall(pattern, text)\n",
        "matches"
      ],
      "metadata": {
        "colab": {
          "base_uri": "https://localhost:8080/"
        },
        "id": "hFM4jZvEDf50",
        "outputId": "0b0b990c-2913-4f1a-87c4-0bf8be1d9348"
      },
      "execution_count": null,
      "outputs": [
        {
          "output_type": "execute_result",
          "data": {
            "text/plain": [
              "['https://twitter.com/elonmusk',\n",
              " 'https://twitter.com/teslarati',\n",
              " 'https://twitter.com/dummy_tesla',\n",
              " 'https://twitter.com/dummy_2_tesla']"
            ]
          },
          "metadata": {},
          "execution_count": 47
        }
      ]
    }
  ]
}